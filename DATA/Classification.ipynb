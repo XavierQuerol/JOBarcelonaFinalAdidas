{
 "cells": [
  {
   "cell_type": "code",
   "execution_count": 1,
   "id": "25d35fd7",
   "metadata": {},
   "outputs": [],
   "source": [
    "import pandas as pd\n",
    "players = pd.read_csv(\"../datasets/players_1.csv\")\n",
    "matches = pd.read_csv(\"../datasets/matches_1.csv\")\n",
    "teams = pd.read_csv(\"../datasets/teams_1.csv\")"
   ]
  },
  {
   "cell_type": "code",
   "execution_count": 2,
   "id": "c92969e8",
   "metadata": {},
   "outputs": [
    {
     "data": {
      "text/html": [
       "<div>\n",
       "<style scoped>\n",
       "    .dataframe tbody tr th:only-of-type {\n",
       "        vertical-align: middle;\n",
       "    }\n",
       "\n",
       "    .dataframe tbody tr th {\n",
       "        vertical-align: top;\n",
       "    }\n",
       "\n",
       "    .dataframe thead th {\n",
       "        text-align: right;\n",
       "    }\n",
       "</style>\n",
       "<table border=\"1\" class=\"dataframe\">\n",
       "  <thead>\n",
       "    <tr style=\"text-align: right;\">\n",
       "      <th></th>\n",
       "      <th>Match_id</th>\n",
       "      <th>Date</th>\n",
       "      <th>Time</th>\n",
       "      <th>Wk</th>\n",
       "      <th>Home_id</th>\n",
       "      <th>Away_id</th>\n",
       "      <th>ScoreHome</th>\n",
       "      <th>ScoreAway</th>\n",
       "      <th>League_name</th>\n",
       "      <th>Round</th>\n",
       "    </tr>\n",
       "  </thead>\n",
       "  <tbody>\n",
       "    <tr>\n",
       "      <th>0</th>\n",
       "      <td>4df3a732</td>\n",
       "      <td>2022-09-17</td>\n",
       "      <td>12:00</td>\n",
       "      <td>2</td>\n",
       "      <td>15f49df1</td>\n",
       "      <td>4c088abe</td>\n",
       "      <td>2</td>\n",
       "      <td>0</td>\n",
       "      <td>Liga-F</td>\n",
       "      <td>NaN</td>\n",
       "    </tr>\n",
       "    <tr>\n",
       "      <th>1</th>\n",
       "      <td>87c755cd</td>\n",
       "      <td>2022-09-17</td>\n",
       "      <td>12:00</td>\n",
       "      <td>2</td>\n",
       "      <td>aa11fb42</td>\n",
       "      <td>89818574</td>\n",
       "      <td>1</td>\n",
       "      <td>2</td>\n",
       "      <td>Liga-F</td>\n",
       "      <td>NaN</td>\n",
       "    </tr>\n",
       "    <tr>\n",
       "      <th>2</th>\n",
       "      <td>abfde9d9</td>\n",
       "      <td>2022-09-17</td>\n",
       "      <td>16:00</td>\n",
       "      <td>2</td>\n",
       "      <td>c21f25d3</td>\n",
       "      <td>7a7bef84</td>\n",
       "      <td>2</td>\n",
       "      <td>0</td>\n",
       "      <td>Liga-F</td>\n",
       "      <td>NaN</td>\n",
       "    </tr>\n",
       "    <tr>\n",
       "      <th>3</th>\n",
       "      <td>d0329f46</td>\n",
       "      <td>2022-09-17</td>\n",
       "      <td>16:00</td>\n",
       "      <td>2</td>\n",
       "      <td>54582b93</td>\n",
       "      <td>f96ff499</td>\n",
       "      <td>2</td>\n",
       "      <td>0</td>\n",
       "      <td>Liga-F</td>\n",
       "      <td>NaN</td>\n",
       "    </tr>\n",
       "    <tr>\n",
       "      <th>4</th>\n",
       "      <td>f4452586</td>\n",
       "      <td>2022-09-17</td>\n",
       "      <td>18:00</td>\n",
       "      <td>2</td>\n",
       "      <td>215d9026</td>\n",
       "      <td>b56c2667</td>\n",
       "      <td>1</td>\n",
       "      <td>3</td>\n",
       "      <td>Liga-F</td>\n",
       "      <td>NaN</td>\n",
       "    </tr>\n",
       "  </tbody>\n",
       "</table>\n",
       "</div>"
      ],
      "text/plain": [
       "   Match_id        Date   Time  Wk   Home_id   Away_id  ScoreHome  ScoreAway  \\\n",
       "0  4df3a732  2022-09-17  12:00   2  15f49df1  4c088abe          2          0   \n",
       "1  87c755cd  2022-09-17  12:00   2  aa11fb42  89818574          1          2   \n",
       "2  abfde9d9  2022-09-17  16:00   2  c21f25d3  7a7bef84          2          0   \n",
       "3  d0329f46  2022-09-17  16:00   2  54582b93  f96ff499          2          0   \n",
       "4  f4452586  2022-09-17  18:00   2  215d9026  b56c2667          1          3   \n",
       "\n",
       "  League_name Round  \n",
       "0      Liga-F   NaN  \n",
       "1      Liga-F   NaN  \n",
       "2      Liga-F   NaN  \n",
       "3      Liga-F   NaN  \n",
       "4      Liga-F   NaN  "
      ]
     },
     "execution_count": 2,
     "metadata": {},
     "output_type": "execute_result"
    }
   ],
   "source": [
    "matches.head()"
   ]
  },
  {
   "cell_type": "code",
   "execution_count": null,
   "id": "4fd4d873",
   "metadata": {},
   "outputs": [],
   "source": [
    "leagues = "
   ]
  },
  {
   "cell_type": "code",
   "execution_count": 3,
   "id": "9d1373bb",
   "metadata": {},
   "outputs": [
    {
     "ename": "SyntaxError",
     "evalue": "invalid syntax (3368096809.py, line 1)",
     "output_type": "error",
     "traceback": [
      "\u001b[1;36m  File \u001b[1;32m\"C:\\Users\\xavid\\AppData\\Local\\Temp\\ipykernel_7036\\3368096809.py\"\u001b[1;36m, line \u001b[1;32m1\u001b[0m\n\u001b[1;33m    pd.Dataframe(matches`[\"Home_id\"].unique())\u001b[0m\n\u001b[1;37m                        ^\u001b[0m\n\u001b[1;31mSyntaxError\u001b[0m\u001b[1;31m:\u001b[0m invalid syntax\n"
     ]
    }
   ],
   "source": [
    "pd.Dataframe(matches[\"Home_id\"].unique())"
   ]
  },
  {
   "cell_type": "code",
   "execution_count": 4,
   "id": "b990135f",
   "metadata": {},
   "outputs": [
    {
     "data": {
      "text/plain": [
       "array(['Liga-F', 'Womens-Super-League', 'Division-1-Feminine',\n",
       "       'Frauen-Bundesliga', 'Serie-A'], dtype=object)"
      ]
     },
     "execution_count": 4,
     "metadata": {},
     "output_type": "execute_result"
    }
   ],
   "source": [
    "matches[\"League_name\"].unique()"
   ]
  },
  {
   "cell_type": "code",
   "execution_count": null,
   "id": "2adb0e87",
   "metadata": {},
   "outputs": [],
   "source": []
  }
 ],
 "metadata": {
  "kernelspec": {
   "display_name": "Python 3 (ipykernel)",
   "language": "python",
   "name": "python3"
  },
  "language_info": {
   "codemirror_mode": {
    "name": "ipython",
    "version": 3
   },
   "file_extension": ".py",
   "mimetype": "text/x-python",
   "name": "python",
   "nbconvert_exporter": "python",
   "pygments_lexer": "ipython3",
   "version": "3.8.12"
  }
 },
 "nbformat": 4,
 "nbformat_minor": 5
}
