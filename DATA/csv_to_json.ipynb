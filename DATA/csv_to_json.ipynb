{
 "cells": [
  {
   "cell_type": "code",
   "execution_count": 43,
   "id": "cdf67954",
   "metadata": {},
   "outputs": [],
   "source": [
    "import pandas as pd\n",
    "players = pd.read_csv(\"../datasets/players_1.csv\")\n",
    "matches = pd.read_csv(\"../datasets/matches_1.csv\")\n",
    "teams = pd.read_csv(\"../datasets/teams_1.csv\")"
   ]
  },
  {
   "cell_type": "code",
   "execution_count": 44,
   "id": "25090dbd",
   "metadata": {},
   "outputs": [],
   "source": [
    "players.to_json(\"../datasets/players\", orient=\"index\")\n",
    "matches.to_json(\"../datasets/matches\", orient=\"index\")\n",
    "teams.to_json(\"../datasets/teams\", orient=\"index\")"
   ]
  },
  {
   "cell_type": "code",
   "execution_count": null,
   "id": "cd13cbf1",
   "metadata": {},
   "outputs": [],
   "source": []
  }
 ],
 "metadata": {
  "kernelspec": {
   "display_name": "Python 3 (ipykernel)",
   "language": "python",
   "name": "python3"
  },
  "language_info": {
   "codemirror_mode": {
    "name": "ipython",
    "version": 3
   },
   "file_extension": ".py",
   "mimetype": "text/x-python",
   "name": "python",
   "nbconvert_exporter": "python",
   "pygments_lexer": "ipython3",
   "version": "3.8.12"
  }
 },
 "nbformat": 4,
 "nbformat_minor": 5
}
