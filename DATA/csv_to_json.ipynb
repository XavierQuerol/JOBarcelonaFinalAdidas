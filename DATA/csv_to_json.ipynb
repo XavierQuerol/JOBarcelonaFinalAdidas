{
 "cells": [
  {
   "cell_type": "code",
   "execution_count": 95,
   "id": "241b954d",
   "metadata": {},
   "outputs": [],
   "source": [
    "import pandas as pd\n",
    "players = pd.read_csv(\"../datasets/players_1.csv\")\n",
    "matches = pd.read_csv(\"../datasets/matches_1.csv\")\n",
    "teams = pd.read_csv(\"../datasets/teams_1.csv\")"
   ]
  },
  {
   "cell_type": "code",
   "execution_count": 75,
   "id": "cd3f1d88",
   "metadata": {},
   "outputs": [],
   "source": [
    "ids = players[\"Player_id\"]\n",
    "unique_players = players[ids.isin(ids[ids.duplicated()])].sort_values(\"Player_id\")[\"Player\"].unique()"
   ]
  },
  {
   "cell_type": "code",
   "execution_count": 86,
   "id": "b903da5e",
   "metadata": {},
   "outputs": [],
   "source": [
    "players[\"Actual_club\"] = True"
   ]
  },
  {
   "cell_type": "code",
   "execution_count": 79,
   "id": "40d9067f",
   "metadata": {},
   "outputs": [],
   "source": [
    "player_name = players[['Player', 'Player_id','Squad_id']]\n",
    "squad_name = teams[['Squad_id', 'Squad']]\n",
    "merged_data = pd.merge(player_name, squad_name, on='Squad_id')\n",
    "players_name_squad = merged_data['Player']+ ' ' + merged_data['Squad']"
   ]
  },
  {
   "cell_type": "code",
   "execution_count": null,
   "id": "365cc8b2",
   "metadata": {},
   "outputs": [],
   "source": [
    "merged_data[merged_data[\"Player\"].isin(unique_players)].sort_values(\"Player\")[40:50]"
   ]
  },
  {
   "cell_type": "code",
   "execution_count": 85,
   "id": "ef1f069d",
   "metadata": {},
   "outputs": [],
   "source": [
    "players[(players[\"Player_id\"] == \"31ba7da6\") & ([\"Squad_id\"] == \"613577b8\")][\"Actual_club\"] = False #Agnese\n",
    "players[(players[\"Player_id\"] == \"a198675b\") & ([\"Squad_id\"] == \"06d05f19\")][\"Actual_club\"] = False #Alice\n",
    "players[(players[\"Player_id\"] == \"5202e464\") & ([\"Squad_id\"] == \"a6a4e67d\")][\"Actual_club\"] = False #Aniek\n",
    "players[(players[\"Player_id\"] == \"9a69ea30\") & ([\"Squad_id\"] == \"613577b8\")][\"Actual_club\"] = False #Annahita\n",
    "players[(players[\"Player_id\"] == \"6b212562\") & ([\"Squad_id\"] == \"a8e83f23\")][\"Actual_club\"] = False #Asia\n",
    "\n",
    "players[(players[\"Player_id\"] == \"ccb1bd8b\") & ([\"Squad_id\"] == \"a6a4e67d\")][\"Actual_club\"] = False #Bethany\n",
    "players[(players[\"Player_id\"] == \"5c70d41c\") & ([\"Squad_id\"] == \"c99ff6e5\")][\"Actual_club\"] = False #Daniela \n",
    "players[(players[\"Player_id\"] == \"c062b117\") & ([\"Squad_id\"] == \"80595417\")][\"Actual_club\"] = False #Estelle \n",
    "players[(players[\"Player_id\"] == \"b35517bf\") & ([\"Squad_id\"] == \"c4989550\")][\"Actual_club\"] = False #Gio\n",
    "players[(players[\"Player_id\"] == \"4319f536\") & ([\"Squad_id\"] == \"0bbd83f6\")][\"Actual_club\"] = False #Jade \n",
    "\n",
    "players[(players[\"Player_id\"] == \"2225335c\") & ([\"Squad_id\"] == \"411b1108\")][\"Actual_club\"] = False #Jordan \n",
    "players[(players[\"Player_id\"] == \"b86a8726\") & ([\"Squad_id\"] == \"7f2012ad\")][\"Actual_club\"] = False #Kysha \n",
    "players[(players[\"Player_id\"] == \"a72e5658\") & ([\"Squad_id\"] == \"c57b7254\")][\"Actual_club\"] = False #Laura \n",
    "players[(players[\"Player_id\"] == \"8a7599a4\") & ([\"Squad_id\"] == \"54da9a57\")][\"Actual_club\"] = False #Linda \n",
    "players[(players[\"Player_id\"] == \"2ee41ad7\") & ([\"Squad_id\"] == \"0bbd83f6\")][\"Actual_club\"] = False #Lucy  \n",
    "\n",
    "players[(players[\"Player_id\"] == \"ccf22f56\") & ([\"Squad_id\"] == \"80595417\")][\"Actual_club\"] = False #Lydia  \n",
    "players[(players[\"Player_id\"] == \"0223cd04\") & ([\"Squad_id\"] == \"80595417\")][\"Actual_club\"] = False #Magnaba  \n",
    "players[(players[\"Player_id\"] == \"cda50d6b\") & ([\"Squad_id\"] == \"411b1108\")][\"Actual_club\"] = False #Mana  \n",
    "players[(players[\"Player_id\"] == \"688aba5a\") & ([\"Squad_id\"] == \"06d05f19\")][\"Actual_club\"] = False #Martina  \n",
    "players[(players[\"Player_id\"] == \"06a0b963\") & ([\"Squad_id\"] == \"c21f25d3\")][\"Actual_club\"] = False #Michaela  \n",
    "\n",
    "players[(players[\"Player_id\"] == \"b3a53694\") & ([\"Squad_id\"] == \"5d020380\")][\"Actual_club\"] = False #Natasha \n",
    "players[(players[\"Player_id\"] == \"aa6d11d6\") & ([\"Squad_id\"] == \"7f2012ad\")][\"Actual_club\"] = False #Nesrine  \n",
    "players[(players[\"Player_id\"] == \"7f7f6e7c\") & ([\"Squad_id\"] == \"4fcc2996\")][\"Actual_club\"] = False #Ode   \n",
    "players[(players[\"Player_id\"] == \"c5ce2271\") & ([\"Squad_id\"] == \"215d9026\")][\"Actual_club\"] = False #Ornella \n",
    "players[(players[\"Player_id\"] == \"4cc0fb89\") & ([\"Squad_id\"] == \"02f8d026\")][\"Actual_club\"] = False #Paloma   \n",
    "\n",
    "players[(players[\"Player_id\"] == \"b3a53694\") & ([\"Squad_id\"] == \"5d020380\")][\"Actual_club\"] = False #Natasha \n",
    "players[(players[\"Player_id\"] == \"aa6d11d6\") & ([\"Squad_id\"] == \"7f2012ad\")][\"Actual_club\"] = False #Nesrine  \n",
    "players[(players[\"Player_id\"] == \"7f7f6e7c\") & ([\"Squad_id\"] == \"4fcc2996\")][\"Actual_club\"] = False #Ode   \n",
    "players[(players[\"Player_id\"] == \"c5ce2271\") & ([\"Squad_id\"] == \"215d9026\")][\"Actual_club\"] = False #Ornella \n",
    "players[(players[\"Player_id\"] == \"4cc0fb89\") & ([\"Squad_id\"] == \"02f8d026\")][\"Actual_club\"] = False #Paloma  \n",
    "\n",
    "players[(players[\"Player_id\"] == \"e5a62c31\") & ([\"Squad_id\"] == \"9ce68f8a\")][\"Actual_club\"] = False #Ruby\n",
    "players[(players[\"Player_id\"] == \"9e57a3ee\") & ([\"Squad_id\"] == \"f7d05cb5\")][\"Actual_club\"] = False #Sara  \n",
    "players[(players[\"Player_id\"] == \"71f80447\") & ([\"Squad_id\"] == \"b4de690d\")][\"Actual_club\"] = False #Selina  \n",
    "players[(players[\"Player_id\"] == \"0835cd1b\") & ([\"Squad_id\"] == \"Montpellier\")][\"Actual_club\"] = False #Tinaya \n",
    "players[(players[\"Player_id\"] == \"8b27176a\") & ([\"Squad_id\"] == \"9ce68f8a\")][\"Actual_club\"] = False #Vicky  \n",
    "players[(players[\"Player_id\"] == \"00afe19f\") & ([\"Squad_id\"] == \"80595417\")][\"Actual_club\"] = False #Yang  "
   ]
  },
  {
   "cell_type": "code",
   "execution_count": 44,
   "id": "2a3c30e4",
   "metadata": {},
   "outputs": [],
   "source": [
    "players.to_json(\"../datasets/players.json\", orient=\"index\")\n",
    "matches.to_json(\"../datasets/matches.json\", orient=\"index\")\n",
    "teams.to_json(\"../datasets/teams.json\", orient=\"index\")"
   ]
  },
  {
   "cell_type": "code",
   "execution_count": null,
   "id": "56bee358",
   "metadata": {},
   "outputs": [],
   "source": []
  }
 ],
 "metadata": {
  "kernelspec": {
   "display_name": "Python 3 (ipykernel)",
   "language": "python",
   "name": "python3"
  },
  "language_info": {
   "codemirror_mode": {
    "name": "ipython",
    "version": 3
   },
   "file_extension": ".py",
   "mimetype": "text/x-python",
   "name": "python",
   "nbconvert_exporter": "python",
   "pygments_lexer": "ipython3",
   "version": "3.8.12"
  }
 },
 "nbformat": 4,
 "nbformat_minor": 5
}
